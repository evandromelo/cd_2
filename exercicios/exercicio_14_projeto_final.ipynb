{
  "cells": [
    {
      "cell_type": "markdown",
      "source": [
        "### Exerc\u00edcio 14: Projeto Final \u2013 An\u00e1lise de tratores agr\u00edcolas"
      ]
    },
    {
      "cell_type": "code",
      "source": [
        "import pandas as pd\n",
        "import numpy as np\n",
        "import matplotlib.pyplot as plt\n",
        "from scipy.stats import ttest_ind\n",
        "\n",
        "np.random.seed(45)\n",
        "parametros = {\n",
        "    ('Valtra 120', 'leve'): (8.0, 8.0),\n",
        "    ('Valtra 120', 'm\u00e9dia'): (7.0, 9.0),\n",
        "    ('Valtra 120', 'pesada'): (6.0, 10.5),\n",
        "    ('Massey 285', 'leve'): (7.5, 9.5),\n",
        "    ('Massey 285', 'm\u00e9dia'): (6.5, 10.5),\n",
        "    ('Massey 285', 'pesada'): (5.5, 12.0)\n",
        "}\n",
        "\n",
        "modelos = []\n",
        "cargas = []\n",
        "velocidades = []\n",
        "consumos = []\n",
        "\n",
        "for (modelo, carga), (v_med, c_med) in parametros.items():\n",
        "    n = 20\n",
        "    velocidades.extend(np.random.normal(v_med, 0.8, n).clip(3, 10))\n",
        "    consumos.extend(np.random.normal(c_med, 0.7, n).clip(5, 15))\n",
        "    modelos.extend([modelo] * n)\n",
        "    cargas.extend([carga] * n)\n",
        "\n",
        "df = pd.DataFrame({\"modelo\": modelos, \"carga\": cargas,\n",
        "                   \"velocidade_kmh\": velocidades, \"consumo_lh\": consumos})\n",
        "\n",
        "valtra = df[df['modelo'] == 'Valtra 120']['consumo_lh']\n",
        "massey = df[df['modelo'] == 'Massey 285']['consumo_lh']\n",
        "t, p = ttest_ind(valtra, massey)\n",
        "\n",
        "print(f'Valtra: {valtra.mean():.2f} L/h')\n",
        "print(f'Massey: {massey.mean():.2f} L/h')\n",
        "print(f'p-valor: {p:.4f}')\n",
        "print('Diferen\u00e7a significativa' if p < 0.05 else 'Sem diferen\u00e7a')"
      ],
      "metadata": {},
      "execution_count": 1,
      "outputs": []
    }
  ],
  "metadata": {
    "kernelspec": {
      "display_name": "Python 3",
      "language": "python",
      "name": "python3"
    },
    "language_info": {
      "name": "python",
      "version": "3.10"
    }
  },
  "nbformat": 4,
  "nbformat_minor": 4
}