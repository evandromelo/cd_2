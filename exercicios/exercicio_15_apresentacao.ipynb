{
  "cells": [
    {
      "cell_type": "markdown",
      "source": [
        "### Exerc\u00edcio 15: Roteiro para apresenta\u00e7\u00e3o dos projetos\n",
        "\n",
        "- Introdu\u00e7\u00e3o (1 min)\n",
        "- M\u00e9todos (2 min)\n",
        "- Resultados (1 min)\n",
        "- Conclus\u00e3o (1 min)"
      ]
    }
  ],
  "metadata": {
    "kernelspec": {
      "display_name": "Python 3",
      "language": "python",
      "name": "python3"
    },
    "language_info": {
      "name": "python",
      "version": "3.10"
    }
  },
  "nbformat": 4,
  "nbformat_minor": 4
}