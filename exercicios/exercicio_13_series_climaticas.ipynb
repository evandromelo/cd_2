{
  "cells": [
    {
      "cell_type": "markdown",
      "source": [
        "### Exerc\u00edcio 13: An\u00e1lise de dados clim\u00e1ticos hor\u00e1rios"
      ]
    },
    {
      "cell_type": "code",
      "source": [
        "import pandas as pd\n",
        "import numpy as np\n",
        "import matplotlib.pyplot as plt\n",
        "\n",
        "hours = pd.date_range(\"2024-06-01\", periods=168, freq='H')\n",
        "radiacao = np.clip(800 * np.sin(2*np.pi*(hours.hour-6)/24) + np.random.normal(0,50,168), 0, 1100)\n",
        "\n",
        "df = pd.DataFrame({\"data_hora\": hours, \"radiacao\": radiacao})\n",
        "df['media_movel'] = df['radiacao'].rolling(24, min_periods=1).mean()\n",
        "\n",
        "plt.figure(figsize=(10, 5))\n",
        "plt.plot(df['data_hora'], df['radiacao'], alpha=0.6, label='Hor\u00e1ria')\n",
        "plt.plot(df['data_hora'], df['media_movel'], 'r-', linewidth=2, label='M\u00e9dia m\u00f3vel (24h)')\n",
        "plt.xlabel('Data/Hora')\n",
        "plt.ylabel('Radia\u00e7\u00e3o (W/m\u00b2)')\n",
        "plt.title('Evolu\u00e7\u00e3o da Radia\u00e7\u00e3o Solar')\n",
        "plt.legend()\n",
        "plt.grid(True, alpha=0.3)\n",
        "plt.tight_layout()\n",
        "plt.show()"
      ],
      "metadata": {},
      "execution_count": 1,
      "outputs": []
    }
  ],
  "metadata": {
    "kernelspec": {
      "display_name": "Python 3",
      "language": "python",
      "name": "python3"
    },
    "language_info": {
      "name": "python",
      "version": "3.10"
    }
  },
  "nbformat": 4,
  "nbformat_minor": 4
}