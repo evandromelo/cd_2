{
  "cells": [
    {
      "cell_type": "markdown",
      "source": [
        "### Exerc\u00edcio 12: Modelagem da perda de calda em fun\u00e7\u00e3o do vento"
      ]
    },
    {
      "cell_type": "code",
      "source": [
        "import numpy as np\n",
        "import matplotlib.pyplot as plt\n",
        "from scipy import stats\n",
        "\n",
        "np.random.seed(43)\n",
        "vento = np.random.uniform(1, 8, 50)\n",
        "perda = 5 + 3*vento + 0.8*vento**2 + np.random.normal(0, 2, 50)\n",
        "perda = np.clip(perda, 5, 100)\n",
        "\n",
        "slope, intercept, r_value, p_value, std_err = stats.linregress(vento, perda)\n",
        "r2 = r_value**2\n",
        "\n",
        "plt.figure(figsize=(8, 5))\n",
        "plt.scatter(vento, perda, alpha=0.7)\n",
        "plt.plot(np.sort(vento), intercept + slope*np.sort(vento), 'r-', label=f'R\u00b2={r2:.3f}')\n",
        "plt.xlabel('Vento (m/s)')\n",
        "plt.ylabel('Perda de calda (%)')\n",
        "plt.legend()\n",
        "plt.title('Modelagem da Perda de Calda')\n",
        "plt.grid(True, alpha=0.3)\n",
        "plt.show()\n",
        "\n",
        "print(f'Rela\u00e7\u00e3o: perda = {slope:.2f}*vento + {intercept:.2f}')\n",
        "print(f'R\u00b2 = {r2:.3f}')"
      ],
      "metadata": {},
      "execution_count": 1,
      "outputs": []
    }
  ],
  "metadata": {
    "kernelspec": {
      "display_name": "Python 3",
      "language": "python",
      "name": "python3"
    },
    "language_info": {
      "name": "python",
      "version": "3.10"
    }
  },
  "nbformat": 4,
  "nbformat_minor": 4
}