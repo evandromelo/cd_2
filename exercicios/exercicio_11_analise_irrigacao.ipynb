{
  "cells": [
    {
      "cell_type": "markdown",
      "source": [
        "### Exerc\u00edcio 11: An\u00e1lise de sistema de irriga\u00e7\u00e3o por gotejamento\n",
        "\n",
        "Dados simulados com controle por tratamento."
      ]
    },
    {
      "cell_type": "code",
      "source": [
        "import numpy as np\n",
        "import pandas as pd\n",
        "import matplotlib.pyplot as plt\n",
        "\n",
        "np.random.seed(42)\n",
        "n = 30\n",
        "tratamentos = ['Baixa press\u00e3o', 'M\u00e9dia press\u00e3o', 'Alta press\u00e3o']\n",
        "dados = []\n",
        "\n",
        "params = {'Baixa press\u00e3o': (1.0, 1.5, 75),\n",
        "          'M\u00e9dia press\u00e3o': (2.0, 2.0, 85),\n",
        "          'Alta press\u00e3o': (3.0, 2.3, 80)}\n",
        "\n",
        "for trat in tratamentos:\n",
        "    p, v, u = params[trat]\n",
        "    for _ in range(n):\n",
        "        dados.append({\n",
        "            'tratamento': trat,\n",
        "            'press\u00e3o_bar': np.random.normal(p, 0.3),\n",
        "            'vazao_lh': np.random.normal(v, 0.2),\n",
        "            'uniformidade_%': np.random.normal(u, 5)\n",
        "        })\n",
        "\n",
        "df = pd.DataFrame(dados)\n",
        "df = df[df['uniformidade_%'].between(60, 95)].reset_index(drop=True)  # filtro realista\n",
        "\n",
        "print(f'Dados carregados: {len(df)} linhas')\n",
        "print(df.groupby(\"tratamento\")[\"uniformidade_%\"].mean().round(2))"
      ],
      "metadata": {},
      "execution_count": 1,
      "outputs": []
    }
  ],
  "metadata": {
    "kernelspec": {
      "display_name": "Python 3",
      "language": "python",
      "name": "python3"
    },
    "language_info": {
      "name": "python",
      "version": "3.10"
    }
  },
  "nbformat": 4,
  "nbformat_minor": 4
}