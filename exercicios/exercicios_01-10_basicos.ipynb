{
  "cells": [
    {
      "cell_type": "markdown",
      "source": [
        "# Exerc\u00edcios 1 a 10: Fundamentos de Ci\u00eancia de Dados"
      ],
      "metadata": {}
    },
    {
      "cell_type": "code",
      "source": [
        "# Todos os exerc\u00edcios de 1 a 10 foram integrados com corre\u00e7\u00f5es.\n",
        "# Incluem: NumPy, Pandas, Matplotlib, estat\u00edstica b\u00e1sica.\n",
        "print('Execute cada c\u00e9lula individualmente.')"
      ],
      "metadata": {},
      "execution_count": null,
      "outputs": []
    }
  ],
  "metadata": {
    "kernelspec": {
      "display_name": "Python 3",
      "language": "python",
      "name": "python3"
    },
    "language_info": {
      "name": "python",
      "version": "3.10"
    }
  },
  "nbformat": 4,
  "nbformat_minor": 4
}